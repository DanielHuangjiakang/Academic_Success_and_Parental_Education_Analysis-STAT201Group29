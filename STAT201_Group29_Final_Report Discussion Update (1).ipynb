{
 "cells": [
  {
   "cell_type": "markdown",
   "id": "d638dedd-242b-4be0-95ba-f4d923daf203",
   "metadata": {},
   "source": [
    "# STAT 201: Group 29 Final Report\n",
    "##### Brian Moniaga, Jiahe Jiang, Jiakang Huang, Nolan Vibhakar\n",
    "##### Date: December 6th, 2023"
   ]
  },
  {
   "cell_type": "markdown",
   "id": "9892f723-61bc-4138-ac65-6da41ddff09a",
   "metadata": {},
   "source": [
    "## Import packages:"
   ]
  },
  {
   "cell_type": "code",
   "execution_count": 15,
   "id": "854e7dac-e137-4f71-ba6c-ef67c8446dca",
   "metadata": {
    "tags": []
   },
   "outputs": [
    {
     "ename": "ERROR",
     "evalue": "Error in library(cowplot): there is no package called ‘cowplot’\n",
     "output_type": "error",
     "traceback": [
      "Error in library(cowplot): there is no package called ‘cowplot’\nTraceback:\n",
      "1. library(cowplot)"
     ]
    }
   ],
   "source": [
    "# Use the library function to load the R packages\n",
    "library(tidyverse)\n",
    "library(repr)\n",
    "library(readxl)\n",
    "library(cowplot)\n",
    "library(RColorBrewer)\n",
    "library(tidymodels)"
   ]
  },
  {
   "cell_type": "markdown",
   "id": "a7d7df69-d77b-43c6-a77c-f42ee519bb22",
   "metadata": {
    "tags": []
   },
   "source": [
    "## Introduction:\n",
    "Investigating the factors that affect students' academic grades is a crucial area of research with significant implications for educational institutions, policymakers, and society as a whole. Understanding these factors can help us estimate educational outcomes for students. Several published journals and studies highlight the importance of this research area. One of these aspects is their impact on graduation rates. A study by Pascarella and Terenzini (2005) emphasizes that academic performance is a strong predictor of whether a student will complete their degree. Furthermore, investigating these factors can make us aware of educational inequalities. [A research paper by Reardon (2011) ](https://cepa.stanford.edu/sites/default/files/reardon%20whither%20opportunity%20-%20chapter%205.pdf) claims that students from different socioeconomic backgrounds often face disparities in academic achievement. Last but not least, Makewa et al.(2012) propose that parents might also have an impact on students' grades. To conduct further investigation, we obtained a dataset from UCI. This dataset considers 31 factors related to the academic success of 145 students, with a specific focus on the education level of students' parents. The students will be sorted based on whether they come from highly educated families (where at least one parent has gone to university) or not. By analyzing the data, we can accurately gauge students' academic success by examining their parents' educational background, with the criterion being that the student achieved a GPA exceeding 3 in the previous semester.\n",
    "\n",
    "<img src=\"https://media3.giphy.com/media/IPbS5R4fSUl5S/giphy.gif?cid=ecf05e47x87f3pqmvs9tgypbylzin60fkzte2tcf7hhf1849&rid=giphy.gif&ct=g\" width = \"800\"/>\n",
    "\n",
    "Source: https://media3.giphy.com/media/IPbS5R4fSUl5S/giphy.gif"
   ]
  },
  {
   "cell_type": "markdown",
   "id": "1368009e-50fd-4bea-9458-5148da72ce2f",
   "metadata": {},
   "source": [
    "## Methods:\n",
    "\n",
    "In our study, we aimed to assess the academic success of individual students by examining their parents' education levels. We categorized students into two groups: those from high-education families and those from low-education families. We defined a high-education family as one where at least one parent holds a university degree. To determine academic success, we utilized the students' last semester GPA, considering a GPA above 3.0 as a benchmark for academic achievement. We decided on this metric because we felt like it denoted a good threshhold for which students are perceived as acedemically successful. Our data came from UC Irvine, which is considered a top University in the US, so students with a 3.0 GPA or higher are clearly achieving a level of academic success as indicated by their grades.\n",
    "\n",
    "In our initial analysis, we found that there were a large enough amount of students in each level of family education for the analysis to be appropriate. Additionally, we found that the proportions for our sample were really similar for each group. However, this is not enough to conclusively say that the education level of the family doesn't make a difference. Our sample size is relatively small, even in comparison to the entire UC Irvine student population, not to mention the entire population. Furthermore, our analysis does not provide insights into the accuracy of our results. Therefore, additional analyses are necessary to delve deeper into the relationship between family education level and academic success.\n",
    "\n",
    "To determine the relationship between our two variaables, we will first coduct a hypothesis test by using boostrapping method. We will use $p_h$ to denote the proportion of students from high education families and $p_l$ to denote the proportion from low education families. Our hypotheses are as follows:\n",
    "$$\n",
    "H_0: p_h - p_l = 0, H_A: p_h - p_l \\neq 0\n",
    "$$\n",
    "In our hypothesis test, we will use $\\alpha = 0.05$.\n",
    "\n",
    "To further examine the relationship between our variables, we will employ a theory-based method to obtain an additional p-value. This approach will provide stronger evidence to support our conclusion and determine which group has a higher chance of academic success."
   ]
  },
  {
   "cell_type": "markdown",
   "id": "f5f273f5-e5e1-40eb-a9e0-0180e91314bc",
   "metadata": {},
   "source": [
    "## Data Analysis:"
   ]
  },
  {
   "cell_type": "markdown",
   "id": "7121cfb3-e7f1-46d9-9800-25af9e54a6b0",
   "metadata": {},
   "source": [
    "To begin with, we organized the original dataset based on the **established criterions**."
   ]
  },
  {
   "cell_type": "code",
   "execution_count": 8,
   "id": "d4bc743e-83c1-48cd-b342-75f461fa44d9",
   "metadata": {
    "tags": []
   },
   "outputs": [
    {
     "data": {
      "text/html": [
       "<table class=\"dataframe\">\n",
       "<caption>A data.frame: 5 × 5</caption>\n",
       "<thead>\n",
       "\t<tr><th></th><th scope=col>Mothers_Education</th><th scope=col>Fathers_Education</th><th scope=col>CGPA_Last_Semester</th><th scope=col>high_education_family</th><th scope=col>academically_successful</th></tr>\n",
       "\t<tr><th></th><th scope=col>&lt;int&gt;</th><th scope=col>&lt;int&gt;</th><th scope=col>&lt;int&gt;</th><th scope=col>&lt;lgl&gt;</th><th scope=col>&lt;lgl&gt;</th></tr>\n",
       "</thead>\n",
       "<tbody>\n",
       "\t<tr><th scope=row>1</th><td>1</td><td>2</td><td>1</td><td>FALSE</td><td>FALSE</td></tr>\n",
       "\t<tr><th scope=row>2</th><td>2</td><td>3</td><td>2</td><td>FALSE</td><td>FALSE</td></tr>\n",
       "\t<tr><th scope=row>3</th><td>2</td><td>2</td><td>2</td><td>FALSE</td><td>FALSE</td></tr>\n",
       "\t<tr><th scope=row>4</th><td>1</td><td>2</td><td>3</td><td>FALSE</td><td>FALSE</td></tr>\n",
       "\t<tr><th scope=row>5</th><td>3</td><td>3</td><td>2</td><td>FALSE</td><td>FALSE</td></tr>\n",
       "</tbody>\n",
       "</table>\n"
      ],
      "text/latex": [
       "A data.frame: 5 × 5\n",
       "\\begin{tabular}{r|lllll}\n",
       "  & Mothers\\_Education & Fathers\\_Education & CGPA\\_Last\\_Semester & high\\_education\\_family & academically\\_successful\\\\\n",
       "  & <int> & <int> & <int> & <lgl> & <lgl>\\\\\n",
       "\\hline\n",
       "\t1 & 1 & 2 & 1 & FALSE & FALSE\\\\\n",
       "\t2 & 2 & 3 & 2 & FALSE & FALSE\\\\\n",
       "\t3 & 2 & 2 & 2 & FALSE & FALSE\\\\\n",
       "\t4 & 1 & 2 & 3 & FALSE & FALSE\\\\\n",
       "\t5 & 3 & 3 & 2 & FALSE & FALSE\\\\\n",
       "\\end{tabular}\n"
      ],
      "text/markdown": [
       "\n",
       "A data.frame: 5 × 5\n",
       "\n",
       "| <!--/--> | Mothers_Education &lt;int&gt; | Fathers_Education &lt;int&gt; | CGPA_Last_Semester &lt;int&gt; | high_education_family &lt;lgl&gt; | academically_successful &lt;lgl&gt; |\n",
       "|---|---|---|---|---|---|\n",
       "| 1 | 1 | 2 | 1 | FALSE | FALSE |\n",
       "| 2 | 2 | 3 | 2 | FALSE | FALSE |\n",
       "| 3 | 2 | 2 | 2 | FALSE | FALSE |\n",
       "| 4 | 1 | 2 | 3 | FALSE | FALSE |\n",
       "| 5 | 3 | 3 | 2 | FALSE | FALSE |\n",
       "\n"
      ],
      "text/plain": [
       "  Mothers_Education Fathers_Education CGPA_Last_Semester high_education_family\n",
       "1 1                 2                 1                  FALSE                \n",
       "2 2                 3                 2                  FALSE                \n",
       "3 2                 2                 2                  FALSE                \n",
       "4 1                 2                 3                  FALSE                \n",
       "5 3                 3                 2                  FALSE                \n",
       "  academically_successful\n",
       "1 FALSE                  \n",
       "2 FALSE                  \n",
       "3 FALSE                  \n",
       "4 FALSE                  \n",
       "5 FALSE                  "
      ]
     },
     "metadata": {},
     "output_type": "display_data"
    },
    {
     "name": "stdout",
     "output_type": "stream",
     "text": [
      "Table 1: Student Data table"
     ]
    }
   ],
   "source": [
    "# Read the CSV file\n",
    "student_data <- read.csv(\"https://raw.githubusercontent.com/DanielHuangjiakang/STAT201-Group-Project_29/main/student.csv\", header = TRUE) |>\n",
    "    select(Mothers_Education, Fathers_Education, CGPA_Last_Semester) |>\n",
    "    mutate(high_education_family = if_else(Mothers_Education > 3 | Fathers_Education > 3, TRUE, FALSE), \n",
    "          academically_successful = if_else(CGPA_Last_Semester > 3, TRUE, FALSE))\n",
    "\n",
    "\n",
    "head(student_data, 5)\n",
    "cat(\"Table 1: Student Data table\")"
   ]
  },
  {
   "cell_type": "markdown",
   "id": "62a41cfe-2153-4628-971f-cc0fdda60e9d",
   "metadata": {},
   "source": [
    "#### There are 145 students contained in this dataset\n",
    "* `Mothers_Education`: (1: primary school, 2: secondary school, 3: high school, 4: university, 5: MSc., 6: Ph.D.)\n",
    "* `Fathers_Education`: (1: primary school, 2: secondary school, 3: high school, 4: university, 5: MSc., 6: Ph.D.)\n",
    "* `CGPA_Last_Semester`(/4.00): (1: <2.00, 2: 2.00-2.49, 3: 2.50-2.99, 4: 3.00-3.49, 5: above 3.49)\n",
    "* `high_education_family`: A student is considered to be from a high-education family if **at least one** of their parents has attended university (FALSE: student is not from a high educated family, TRUE: student is from a high educated family)\n",
    "* `academically_successful`: A student is considered academically successful if their GPA last semester was **3.0 or higher** (FALSE: student is considered not to be academically successful, TRUE: student is considered to be academically successful)"
   ]
  },
  {
   "cell_type": "code",
   "execution_count": 9,
   "id": "44fbee47-3074-4fb2-9812-62cbb20f0daf",
   "metadata": {
    "tags": []
   },
   "outputs": [
    {
     "data": {
      "text/html": [
       "<table class=\"dataframe\">\n",
       "<caption>A grouped_df: 4 × 3</caption>\n",
       "<thead>\n",
       "\t<tr><th scope=col>high_education_family</th><th scope=col>academically_successful</th><th scope=col>n</th></tr>\n",
       "\t<tr><th scope=col>&lt;lgl&gt;</th><th scope=col>&lt;lgl&gt;</th><th scope=col>&lt;int&gt;</th></tr>\n",
       "</thead>\n",
       "<tbody>\n",
       "\t<tr><td>FALSE</td><td>FALSE</td><td>56</td></tr>\n",
       "\t<tr><td>FALSE</td><td> TRUE</td><td>46</td></tr>\n",
       "\t<tr><td> TRUE</td><td>FALSE</td><td>24</td></tr>\n",
       "\t<tr><td> TRUE</td><td> TRUE</td><td>19</td></tr>\n",
       "</tbody>\n",
       "</table>\n"
      ],
      "text/latex": [
       "A grouped\\_df: 4 × 3\n",
       "\\begin{tabular}{lll}\n",
       " high\\_education\\_family & academically\\_successful & n\\\\\n",
       " <lgl> & <lgl> & <int>\\\\\n",
       "\\hline\n",
       "\t FALSE & FALSE & 56\\\\\n",
       "\t FALSE &  TRUE & 46\\\\\n",
       "\t  TRUE & FALSE & 24\\\\\n",
       "\t  TRUE &  TRUE & 19\\\\\n",
       "\\end{tabular}\n"
      ],
      "text/markdown": [
       "\n",
       "A grouped_df: 4 × 3\n",
       "\n",
       "| high_education_family &lt;lgl&gt; | academically_successful &lt;lgl&gt; | n &lt;int&gt; |\n",
       "|---|---|---|\n",
       "| FALSE | FALSE | 56 |\n",
       "| FALSE |  TRUE | 46 |\n",
       "|  TRUE | FALSE | 24 |\n",
       "|  TRUE |  TRUE | 19 |\n",
       "\n"
      ],
      "text/plain": [
       "  high_education_family academically_successful n \n",
       "1 FALSE                 FALSE                   56\n",
       "2 FALSE                  TRUE                   46\n",
       "3  TRUE                 FALSE                   24\n",
       "4  TRUE                  TRUE                   19"
      ]
     },
     "metadata": {},
     "output_type": "display_data"
    },
    {
     "data": {
      "text/html": [
       "<table class=\"dataframe\">\n",
       "<caption>A tibble: 1 × 2</caption>\n",
       "<thead>\n",
       "\t<tr><th scope=col>low_education_family</th><th scope=col>high_education_family</th></tr>\n",
       "\t<tr><th scope=col>&lt;dbl&gt;</th><th scope=col>&lt;dbl&gt;</th></tr>\n",
       "</thead>\n",
       "<tbody>\n",
       "\t<tr><td>0.4509804</td><td>0.4418605</td></tr>\n",
       "</tbody>\n",
       "</table>\n"
      ],
      "text/latex": [
       "A tibble: 1 × 2\n",
       "\\begin{tabular}{ll}\n",
       " low\\_education\\_family & high\\_education\\_family\\\\\n",
       " <dbl> & <dbl>\\\\\n",
       "\\hline\n",
       "\t 0.4509804 & 0.4418605\\\\\n",
       "\\end{tabular}\n"
      ],
      "text/markdown": [
       "\n",
       "A tibble: 1 × 2\n",
       "\n",
       "| low_education_family &lt;dbl&gt; | high_education_family &lt;dbl&gt; |\n",
       "|---|---|\n",
       "| 0.4509804 | 0.4418605 |\n",
       "\n"
      ],
      "text/plain": [
       "  low_education_family high_education_family\n",
       "1 0.4509804            0.4418605            "
      ]
     },
     "metadata": {},
     "output_type": "display_data"
    },
    {
     "name": "stdout",
     "output_type": "stream",
     "text": [
      "Table 2: Proportion of acedmically successful students from families with different level of education"
     ]
    }
   ],
   "source": [
    "# Count the number of students sorted into two groups: high_education_family & academically_successful\n",
    "Student_Tally <- \n",
    "    student_data |>\n",
    "    group_by(high_education_family, academically_successful) |>\n",
    "    tally()\n",
    "\n",
    "# Calculate proportions of academically successful students for each family educational level\n",
    "Student_Props <- tibble(low_education_family = 46/(46+56), high_education_family = 19/(24+19))\n",
    "\n",
    "Student_Tally\n",
    "Student_Props\n",
    "cat(\"Table 2: Proportion of acedmically successful students from families with different level of education\")"
   ]
  },
  {
   "cell_type": "code",
   "execution_count": 12,
   "id": "9668301f-34df-40ba-b77b-7c1a0bd1cc8d",
   "metadata": {
    "tags": []
   },
   "outputs": [
    {
     "ename": "ERROR",
     "evalue": "Error in plot_grid(histogram_High_Education_CGPA_Last_Semester, histogram_Low_Education_CGPA_Last_Semester, : could not find function \"plot_grid\"\n",
     "output_type": "error",
     "traceback": [
      "Error in plot_grid(histogram_High_Education_CGPA_Last_Semester, histogram_Low_Education_CGPA_Last_Semester, : could not find function \"plot_grid\"\nTraceback:\n"
     ]
    }
   ],
   "source": [
    "options(repr.plot.width = 11, repr.plot.height = 7) \n",
    "# Barplot for High & Low Family Education Level Vs. Academic Success\n",
    "Student_Bar_Plot <- student_data |>\n",
    "  ggplot(aes(x = high_education_family, fill = academically_successful)) +\n",
    "  geom_bar(position = \"fill\") +\n",
    "  scale_fill_manual(values = c(\"#f08080\", \"#add8e6\")) +\n",
    "  scale_x_discrete(labels = c(\"Low Education\", \"High Education\")) +  # Change labels here\n",
    "  labs(x = \"Family Education Level\", \n",
    "       fill = \"Success Category\",\n",
    "       title = \"Plot 1: Barplot for High & Low Family Education Level Vs. Academic Success\") +\n",
    "  ylab(\"Proportion\")\n",
    "\n",
    "# Histogram for High Education Family CGPA Last Semester\n",
    "histogram_High_Education_CGPA_Last_Semester <- \n",
    "    student_data |>\n",
    "    filter(high_education_family == TRUE) |> \n",
    "    ggplot(aes(x = CGPA_Last_Semester)) +\n",
    "    geom_histogram(binwidth = 0.5, fill = \"#add8e6\", color = \"#b0c4de\") + \n",
    "    labs(x = \"CGPA Last Semester\", title = \"High Education Families\") +\n",
    "    ggtitle(\"Plot 2: Histogram for High Education Family CGPA Last Semester\")\n",
    "\n",
    "# Histogram for Low Education Family CGPA Last Semester\n",
    "histogram_Low_Education_CGPA_Last_Semester <- \n",
    "    student_data |>\n",
    "    filter(high_education_family == FALSE) |> \n",
    "    ggplot(aes(x = CGPA_Last_Semester)) +\n",
    "    geom_histogram(binwidth = 0.5, fill = \"#f08080\", color = \"#cd5c5c\") + \n",
    "    labs(x = \"CGPA Last Semester\", title = \"Low Education Families\") +\n",
    "    ggtitle(\"Plot 3: Histogram for Low Education Family CGPA Last Semester\")\n",
    "\n",
    "\n",
    "summaries_family_edu <- student_data |>\n",
    "    group_by(high_education_family) |>\n",
    "    summarise(mean = mean(CGPA_Last_Semester, na.rm = TRUE),\n",
    "              sd = sd(CGPA_Last_Semester, na.rm = TRUE))\n",
    "\n",
    "plot_grid <- plot_grid(histogram_High_Education_CGPA_Last_Semester, \n",
    "                       histogram_Low_Education_CGPA_Last_Semester,\n",
    "                       labels = \"AUTO\", ncol = 2, align = 'h') \n",
    "\n",
    "Student_Bar_Plot\n",
    "cat(\"Table 3: Summary of CGPA Last Semester grouped by Family Education Level\")\n",
    "summaries_family_edu\n",
    "plot_grid"
   ]
  },
  {
   "cell_type": "markdown",
   "id": "22d7eb8f-b25f-4688-a153-a6ae8b85a72b",
   "metadata": {},
   "source": [
    "Based on Table 3, it appears that there may be a trend suggesting that students from families with lower educational backgrounds tend to achieve a higher CGPA compared to students from families with higher educational levels. The data visualizations, presented in the form of barplots and histograms, offer some evidence supporting this potential trend."
   ]
  },
  {
   "cell_type": "markdown",
   "id": "486558cb-d4d0-405a-b44c-27639a462641",
   "metadata": {},
   "source": [
    "## Hypothesis Tests:"
   ]
  },
  {
   "cell_type": "markdown",
   "id": "21bf3348-b63b-4b0b-8c0c-0939b5aff099",
   "metadata": {
    "tags": []
   },
   "source": [
    "First we will conduct a hypothesis test with the hypotheses:\n",
    "$$\n",
    "H_0: p_h - p_l = 0,H_A: p_h - p_l \\neq 0\n",
    "$$\n",
    "\n",
    "$p_h$ represents the possibility of students from high-education families achieving academic success, while $p_l$ signifies the possibility of students from low-education families achieving academic success.\n",
    "\n",
    "To do this, we will employ both **bootstrapping** and **theory-based** methods to calculate the p-value. We will assess the p-value using a significance level of **0.05** and compare the results of two hypothesis tests."
   ]
  },
  {
   "cell_type": "markdown",
   "id": "2792f35d-30ca-486f-9e11-71dc03e6c5ee",
   "metadata": {},
   "source": [
    "### The Bootstrapping method:"
   ]
  },
  {
   "cell_type": "code",
   "execution_count": 6,
   "id": "638c4357-59e1-49c4-b1be-74319235267d",
   "metadata": {
    "tags": []
   },
   "outputs": [
    {
     "ename": "ERROR",
     "evalue": "Error in calculate(generate(hypothesize(specify(student_data, academically_successful ~ : could not find function \"calculate\"\n",
     "output_type": "error",
     "traceback": [
      "Error in calculate(generate(hypothesize(specify(student_data, academically_successful ~ : could not find function \"calculate\"\nTraceback:\n"
     ]
    }
   ],
   "source": [
    "# Setting the seed to ensure reproducibility of results\n",
    "set.seed(123)\n",
    "\n",
    "# Obtain the null distribution\n",
    "null_dist <- student_data |>\n",
    "    specify(academically_successful ~ high_education_family, success = \"TRUE\") |>\n",
    "    hypothesize(null = \"independence\") |>\n",
    "    generate(reps = 1000, type = \"permute\") |>\n",
    "    calculate(stat = \"diff in props\", order = c(\"TRUE\",\"FALSE\"))\n",
    "\n",
    "# Find the difference in proportions of high and low education families that are academically successful\n",
    "obs_diff_props <- student_data |>\n",
    "    specify(academically_successful ~ high_education_family, success = \"TRUE\") |>\n",
    "    calculate(stat = \"diff in props\", order = c(\"TRUE\",\"FALSE\"))\n",
    "\n",
    "# Obtain the 95% confidence interval for Null distribution\n",
    "confidence_intervel <- null_dist |>\n",
    "    get_ci(level = 0.95, type = \"percentile\")\n",
    "\n",
    "# Obtain the p-value\n",
    "p_value <- null_dist |>\n",
    "    get_p_value(obs_stat = obs_diff_props, direction = \"both\") |>\n",
    "    pull()\n",
    "\n",
    "# Visualize the null distribution, shade the p-value\n",
    "null_dist_histogram <- visualize(null_dist, bins = 10) +\n",
    "    shade_p_value(obs_stat = obs_diff_props, direction = \"both\") + \n",
    "    shade_ci(endpoints = confidence_intervel, color = \"#f08080\", fill = \"#add8e6\") +\n",
    "    labs(x = \"Difference in Proportion\") +\n",
    "    ggtitle(\"Plot 4: Null Distribution of Difference in Proportions of Academically Successful Students\") +\n",
    "    theme(plot.title = element_text(face = \"bold\", size = 14)) \n",
    "\n",
    "null_dist_histogram\n",
    "cat(\"P-value:\", p_value, \"\\n\")\n",
    "cat(\"Table 4: Confidence interval for Null Distribution\")\n",
    "confidence_intervel"
   ]
  },
  {
   "cell_type": "markdown",
   "id": "a1d967ac-8449-4acf-abe3-5293140735c0",
   "metadata": {},
   "source": [
    "The p-value obtained through the bootstrapping method is **1**. Given a significance level of 0.05, we **do not** have sufficient evidence to reject the null hypothesis $H_0$. For the confidence interval with a confidence level of 0.95, the endpoints are **-0.174418** and **0.1892385**."
   ]
  },
  {
   "cell_type": "markdown",
   "id": "06433fb0-6d9d-45c2-a26e-d371365db2b9",
   "metadata": {},
   "source": [
    "### The Theory based method:"
   ]
  },
  {
   "cell_type": "code",
   "execution_count": 7,
   "id": "63d5d4b4-9b27-4383-abd9-5135ac5a90ad",
   "metadata": {
    "tags": []
   },
   "outputs": [
    {
     "ename": "ERROR",
     "evalue": "Error in eval(expr, envir, enclos): object 'Student_Tally' not found\n",
     "output_type": "error",
     "traceback": [
      "Error in eval(expr, envir, enclos): object 'Student_Tally' not found\nTraceback:\n"
     ]
    }
   ],
   "source": [
    "# Obtain counts for each group\n",
    "Student_Tally"
   ]
  },
  {
   "cell_type": "markdown",
   "id": "36c2b3a7-6c68-4948-b9f0-5bf3589727e5",
   "metadata": {},
   "source": [
    "Check for the Central Limit Theorem (CLT) in the context of proportions, we need to verify that both np and n(1−p) are greater than 10. "
   ]
  },
  {
   "cell_type": "code",
   "execution_count": 8,
   "id": "39ac8508-015b-4732-89ae-3cc449f39be6",
   "metadata": {
    "tags": []
   },
   "outputs": [
    {
     "name": "stdout",
     "output_type": "stream",
     "text": [
      "For the High Education Family Group np: 19 \n",
      "For the High Education Family Group n(1−p): 24 \n",
      "For the Low Education Family Group np: 46 \n",
      "For the Low Education Family Group n(1−p): 56 \n"
     ]
    }
   ],
   "source": [
    "# The requirement test for CLT\n",
    "CLT_test_High_np <- 43*(19/43)\n",
    "CLT_test_High_n1p <- 43*(1-19/43)\n",
    "\n",
    "CLT_test_Low_np <- 102*(46/102)\n",
    "CLT_test_Low_n1p <- 102*(1-46/102)\n",
    "\n",
    "cat(\"For the High Education Family Group np:\", CLT_test_High_np, \"\\n\")\n",
    "cat(\"For the High Education Family Group n(1−p):\", CLT_test_High_n1p, \"\\n\")\n",
    "cat(\"For the Low Education Family Group np:\", CLT_test_Low_np, \"\\n\")\n",
    "cat(\"For the Low Education Family Group n(1−p):\", CLT_test_Low_n1p, \"\\n\")"
   ]
  },
  {
   "cell_type": "markdown",
   "id": "ffc36c78-2814-48be-b140-315a77a9bff8",
   "metadata": {},
   "source": [
    "Since the **proportions** and **population sizes** for both of satisfy the requirements for the **CLT**, we can apply theory based approaches."
   ]
  },
  {
   "cell_type": "code",
   "execution_count": 2,
   "id": "aebff69d-45f3-4639-a380-7db3bac07bd2",
   "metadata": {
    "tags": []
   },
   "outputs": [
    {
     "ename": "ERROR",
     "evalue": "Error in tidy(prop.test(x = c(19, 46), n = c(43, 102), correct = FALSE)): could not find function \"tidy\"\n",
     "output_type": "error",
     "traceback": [
      "Error in tidy(prop.test(x = c(19, 46), n = c(43, 102), correct = FALSE)): could not find function \"tidy\"\nTraceback:\n"
     ]
    }
   ],
   "source": [
    "# Use built in prop.test function to obtain p-value\n",
    "p_value_prop_test <- tidy (\n",
    "    prop.test(x = c(19,46), \n",
    "    n = c(43,102), \n",
    "    correct = FALSE)\n",
    ")\n",
    "\n",
    "p_value <- p_value_prop_test |>\n",
    "    pull(p.value)\n",
    "lower_ci <- p_value_prop_test |> pull(conf.low)\n",
    "upper_ci <- p_value_prop_test |> pull(conf.high)\n",
    "cat(\"Table 5: Proportion Test Results for Academic Success by Family Education Level\\n\")\n",
    "p_value_prop_test\n",
    "cat(\"P-value:\", p_value, \"\\n\")\n",
    "cat(\"Confidence Interval:\", lower_ci,\"-\", upper_ci)"
   ]
  },
  {
   "cell_type": "markdown",
   "id": "d786be27-7a20-48a4-a5d5-ef31f0cc815e",
   "metadata": {},
   "source": [
    "The p-value obtained through the theory method is **0.9197**. Given a significance level of 0.05, we **do not** have sufficient evidence to reject the null hypothesis $H_0$. Additionally, the confidence interval with a confidence level of 0.95 has endpoints **-0.1861988** and **0.167959**. We obtain different p-values and a different confidence interval, as they are derived through different methods. Nevertheless, the conclusion remains unchanged, as we do not reject the null hypothesis $H_0$ in either case, and the confidence interval is relatively very small in both cases. We don't think one is more trustworthy than the other."
   ]
  },
  {
   "cell_type": "markdown",
   "id": "e5132718-311d-4911-9a7d-3bb4a7c2e165",
   "metadata": {},
   "source": [
    "## Discussion:\n",
    "\n",
    "In our study, we aimed to assess the academic success of individual students by examining their parents' education levels.\n",
    "From the analysis that we did, we received a p-value of **1** and **0.9197** using different methods. Since we are using a significance level of **0.05** we fail to reject the null hypothesis $H_0$ using both of these methods. This implies that we fail to conclude that the academic success of an individual is influenced by their parents' education level. This is inline from our initial analysis where we did not notice a significant difference.\n",
    "\n",
    "Additionally, our findings also challenge the common stereotype and public perception regarding the correlation between parental education levels and a child's educational achievements. This is an interesting finding as it could potentially help combat discrimination amongst students with different parental education levels.\n",
    "\n",
    "While we fail to reject the null hypothesis it does not necessarilly mean that we accept the null hypothesis, rather our study can be further improved by increasing our sample size by surverying more students as well as expanding the range where we get our data and sampling from different schools/universities. These improvements would allow our data to be more representative of our intended population, reducing bias and would provide a more rigorous analysis. Moreover, an article by Vasich (2023) showed that UCI is highly ranked in terms of social mobility and graduation rate for people who received financial assistance which is typically associated with students with lower parental education level. This could imply that UCI is aware of the association between parental education level and students' success and that they have handled the situation very well. If this is true, then our further improvements of branching out to different schools/universities would provide insightful data regarding this issue.\n",
    "\n",
    "Further questions that arise from this findings are whether or not different variables aside from parental education plays a role in affecting a student's academic performance. Other questions include whether this issue can be found in other universities aside from UCI. These questions in itself can be investigated with similar methods to what we did."
   ]
  },
  {
   "cell_type": "markdown",
   "id": "6691269c-ec0b-4e38-afab-b9c466ffee23",
   "metadata": {
    "tags": []
   },
   "source": [
    "## Work Cited:\n",
    "1. Makewa, L. N., Role, E., & Otewa, F. (2012). Parental factors affecting academic achievement of grade six pupils in Kisumu city, Kenya. International Journal of Asian Social Science, 2(11), 1984-1997.\n",
    "\n",
    "2. Pascarella, E. T., & Terenzini, P. T. (2005). How College Affects Students: A Third Decade of Research. Volume 2. Jossey-Bass, An Imprint of Wiley. 10475 Crosspoint Blvd, Indianapolis, IN 46256.\n",
    "\n",
    "3. Reardon, S. F. (2011). The widening academic achievement gap between the rich and the poor: New evidence and possible explanations. Whither opportunity, 1(1), 91-116.\n",
    "\n",
    "4. Yilmaz,Nevriye and Şekeroğlu,Boran. (2023). Higher Education Students Performance Evaluation. UCI Machine Learning Repository. https://doi.org/10.24432/C51G82.\n",
    "\n",
    "5. Vasich, T. (2023). UCI is ranked among nation’s top 10 public universities for ninth year in a row. UCI News. https://news.uci.edu/2023/09/18/uc-irvine-is-ranked-among-nations-top-10-public-universities-for-ninth-year-in-a-row/ "
   ]
  },
  {
   "cell_type": "code",
   "execution_count": null,
   "id": "58d45f64-a4ba-4600-a97c-b4a5b236ad37",
   "metadata": {},
   "outputs": [],
   "source": []
  }
 ],
 "metadata": {
  "kernelspec": {
   "display_name": "R",
   "language": "R",
   "name": "ir"
  },
  "language_info": {
   "codemirror_mode": "r",
   "file_extension": ".r",
   "mimetype": "text/x-r-source",
   "name": "R",
   "pygments_lexer": "r",
   "version": "4.3.0"
  }
 },
 "nbformat": 4,
 "nbformat_minor": 5
}
